{
 "cells": [
  {
   "cell_type": "code",
   "execution_count": 15,
   "metadata": {},
   "outputs": [
    {
     "data": {
      "text/html": [
       "Tracking run with wandb version 0.16.1"
      ],
      "text/plain": [
       "<IPython.core.display.HTML object>"
      ]
     },
     "metadata": {},
     "output_type": "display_data"
    },
    {
     "data": {
      "text/html": [
       "Run data is saved locally in <code>/Users/tzehaotay/Desktop/EmoTech/DS/wandb/run-20240103_231937-jdu0ql71</code>"
      ],
      "text/plain": [
       "<IPython.core.display.HTML object>"
      ]
     },
     "metadata": {},
     "output_type": "display_data"
    },
    {
     "data": {
      "text/html": [
       "Syncing run <strong><a href='https://wandb.ai/tzehao/my-awesome-project/runs/jdu0ql71' target=\"_blank\">woven-dream-6</a></strong> to <a href='https://wandb.ai/tzehao/my-awesome-project' target=\"_blank\">Weights & Biases</a> (<a href='https://wandb.me/run' target=\"_blank\">docs</a>)<br/>"
      ],
      "text/plain": [
       "<IPython.core.display.HTML object>"
      ]
     },
     "metadata": {},
     "output_type": "display_data"
    },
    {
     "data": {
      "text/html": [
       " View project at <a href='https://wandb.ai/tzehao/my-awesome-project' target=\"_blank\">https://wandb.ai/tzehao/my-awesome-project</a>"
      ],
      "text/plain": [
       "<IPython.core.display.HTML object>"
      ]
     },
     "metadata": {},
     "output_type": "display_data"
    },
    {
     "data": {
      "text/html": [
       " View run at <a href='https://wandb.ai/tzehao/my-awesome-project/runs/jdu0ql71' target=\"_blank\">https://wandb.ai/tzehao/my-awesome-project/runs/jdu0ql71</a>"
      ],
      "text/plain": [
       "<IPython.core.display.HTML object>"
      ]
     },
     "metadata": {},
     "output_type": "display_data"
    },
    {
     "name": "stdout",
     "output_type": "stream",
     "text": [
      "Commit successful.[master be26c06] message\n",
      " 26 files changed, 1005 insertions(+), 84 deletions(-)\n",
      " create mode 100644 dvc.ipynb\n",
      " create mode 100644 wandb/run-20240103_170904-atsrz0tp/files/config.yaml\n",
      " create mode 100644 wandb/run-20240103_170904-atsrz0tp/files/requirements.txt\n",
      " create mode 100644 wandb/run-20240103_170904-atsrz0tp/files/wandb-metadata.json\n",
      " create mode 100644 wandb/run-20240103_170904-atsrz0tp/files/wandb-summary.json\n",
      " create mode 100644 wandb/run-20240103_170904-atsrz0tp/logs/debug-internal.log\n",
      " create mode 100644 wandb/run-20240103_170904-atsrz0tp/logs/debug.log\n",
      " create mode 100644 wandb/run-20240103_170904-atsrz0tp/run-atsrz0tp.wandb\n",
      " create mode 100644 wandb/run-20240103_231851-sw4cqlhj/files/config.yaml\n",
      " create mode 100644 wandb/run-20240103_231851-sw4cqlhj/files/output.log\n",
      " create mode 100644 wandb/run-20240103_231851-sw4cqlhj/files/requirements.txt\n",
      " create mode 100644 wandb/run-20240103_231851-sw4cqlhj/files/wandb-metadata.json\n",
      " create mode 100644 wandb/run-20240103_231851-sw4cqlhj/files/wandb-summary.json\n",
      " create mode 100644 wandb/run-20240103_231851-sw4cqlhj/logs/debug-internal.log\n",
      " create mode 100644 wandb/run-20240103_231851-sw4cqlhj/logs/debug.log\n",
      " create mode 100644 wandb/run-20240103_231851-sw4cqlhj/run-sw4cqlhj.wandb\n",
      " create mode 100644 wandb/run-20240103_231937-jdu0ql71/files/config.yaml\n",
      " create mode 100644 wandb/run-20240103_231937-jdu0ql71/files/requirements.txt\n",
      " create mode 100644 wandb/run-20240103_231937-jdu0ql71/files/wandb-metadata.json\n",
      " create mode 100644 wandb/run-20240103_231937-jdu0ql71/logs/debug-internal.log\n",
      " create mode 100644 wandb/run-20240103_231937-jdu0ql71/logs/debug.log\n",
      " create mode 100644 wandb/run-20240103_231937-jdu0ql71/run-jdu0ql71.wandb\n",
      "\n",
      "<module 'wandb' from '/Users/tzehaotay/Desktop/EmoTech/DS/.venv/lib/python3.11/site-packages/wandb/__init__.py'>\n"
     ]
    },
    {
     "name": "stderr",
     "output_type": "stream",
     "text": [
      "Auto packing the repository in background for optimum performance.\n",
      "See \"git help gc\" for manual housekeeping.\n"
     ]
    }
   ],
   "source": [
    "import wandb\n",
    "import random\n",
    "\n",
    "import subprocess\n",
    "import sys\n",
    "\n",
    "def git_commit(commit_message):\n",
    "    try:\n",
    "        # Add all files to staging\n",
    "        subprocess.check_call(['git', 'add', '.'])\n",
    "\n",
    "        # Commit\n",
    "        subprocess.check_call(['git', 'commit', '-m', commit_message])\n",
    "        print(\"Commit successful.\")\n",
    "\n",
    "    except subprocess.CalledProcessError as e:\n",
    "        print(\"An error occurred while trying to commit changes.\")\n",
    "        sys.exit(1)\n",
    "# start a new wandb run to track this script\n",
    "wandb.init(\n",
    "    # set the wandb project where this run will be logged\n",
    "    project=\"my-awesome-project\",\n",
    "    \n",
    "    # track hyperparameters and run metadata\n",
    "    config={\n",
    "    \"learning_rate\": 0.02,\n",
    "    \"architecture\": \"CNN\",\n",
    "    \"dataset\": \"CIFAR-100\",\n",
    "    \"epochs\": 10,\n",
    "    }\n",
    ")\n",
    "git_commit(\"message\")\n",
    "print(wandb)\n"
   ]
  },
  {
   "cell_type": "code",
   "execution_count": 17,
   "metadata": {},
   "outputs": [
    {
     "ename": "Error",
     "evalue": "You must call wandb.init() before wandb.log()",
     "output_type": "error",
     "traceback": [
      "\u001b[0;31m---------------------------------------------------------------------------\u001b[0m",
      "\u001b[0;31mError\u001b[0m                                     Traceback (most recent call last)",
      "Cell \u001b[0;32mIn[17], line 8\u001b[0m\n\u001b[1;32m      5\u001b[0m     loss \u001b[38;5;241m=\u001b[39m \u001b[38;5;241m2\u001b[39m \u001b[38;5;241m*\u001b[39m\u001b[38;5;241m*\u001b[39m \u001b[38;5;241m-\u001b[39mepoch \u001b[38;5;241m+\u001b[39m random\u001b[38;5;241m.\u001b[39mrandom() \u001b[38;5;241m/\u001b[39m epoch \u001b[38;5;241m+\u001b[39m offset\n\u001b[1;32m      7\u001b[0m     \u001b[38;5;66;03m# log metrics to wandb\u001b[39;00m\n\u001b[0;32m----> 8\u001b[0m     \u001b[43mwandb\u001b[49m\u001b[38;5;241;43m.\u001b[39;49m\u001b[43mlog\u001b[49m\u001b[43m(\u001b[49m\u001b[43m{\u001b[49m\u001b[38;5;124;43m\"\u001b[39;49m\u001b[38;5;124;43macc\u001b[39;49m\u001b[38;5;124;43m\"\u001b[39;49m\u001b[43m:\u001b[49m\u001b[43m \u001b[49m\u001b[43macc\u001b[49m\u001b[43m,\u001b[49m\u001b[43m \u001b[49m\u001b[38;5;124;43m\"\u001b[39;49m\u001b[38;5;124;43mloss\u001b[39;49m\u001b[38;5;124;43m\"\u001b[39;49m\u001b[43m:\u001b[49m\u001b[43m \u001b[49m\u001b[43mloss\u001b[49m\u001b[43m}\u001b[49m\u001b[43m)\u001b[49m\n\u001b[1;32m     10\u001b[0m \u001b[38;5;66;03m# [optional] finish the wandb run, necessary in notebooks\u001b[39;00m\n\u001b[1;32m     11\u001b[0m wandb\u001b[38;5;241m.\u001b[39mfinish()\n",
      "File \u001b[0;32m~/Desktop/EmoTech/DS/.venv/lib/python3.11/site-packages/wandb/sdk/lib/preinit.py:36\u001b[0m, in \u001b[0;36mPreInitCallable.<locals>.preinit_wrapper\u001b[0;34m(*args, **kwargs)\u001b[0m\n\u001b[1;32m     35\u001b[0m \u001b[38;5;28;01mdef\u001b[39;00m \u001b[38;5;21mpreinit_wrapper\u001b[39m(\u001b[38;5;241m*\u001b[39margs: Any, \u001b[38;5;241m*\u001b[39m\u001b[38;5;241m*\u001b[39mkwargs: Any) \u001b[38;5;241m-\u001b[39m\u001b[38;5;241m>\u001b[39m Any:\n\u001b[0;32m---> 36\u001b[0m     \u001b[38;5;28;01mraise\u001b[39;00m wandb\u001b[38;5;241m.\u001b[39mError(\u001b[38;5;124mf\u001b[39m\u001b[38;5;124m\"\u001b[39m\u001b[38;5;124mYou must call wandb.init() before \u001b[39m\u001b[38;5;132;01m{\u001b[39;00mname\u001b[38;5;132;01m}\u001b[39;00m\u001b[38;5;124m()\u001b[39m\u001b[38;5;124m\"\u001b[39m)\n",
      "\u001b[0;31mError\u001b[0m: You must call wandb.init() before wandb.log()"
     ]
    }
   ],
   "source": [
    "epochs = 10\n",
    "offset = random.random() / 5\n",
    "for epoch in range(2, epochs):\n",
    "    acc = 10 - 2 ** -epoch - random.random() / epoch - offset\n",
    "    loss = 2 ** -epoch + random.random() / epoch + offset\n",
    "    \n",
    "    # log metrics to wandb\n",
    "    wandb.log({\"acc\": acc, \"loss\": loss})\n",
    "    \n",
    "# [optional] finish the wandb run, necessary in notebooks\n",
    "wandb.finish()\n"
   ]
  }
 ],
 "metadata": {
  "kernelspec": {
   "display_name": ".venv",
   "language": "python",
   "name": "python3"
  },
  "language_info": {
   "codemirror_mode": {
    "name": "ipython",
    "version": 3
   },
   "file_extension": ".py",
   "mimetype": "text/x-python",
   "name": "python",
   "nbconvert_exporter": "python",
   "pygments_lexer": "ipython3",
   "version": "3.11.6"
  }
 },
 "nbformat": 4,
 "nbformat_minor": 2
}
