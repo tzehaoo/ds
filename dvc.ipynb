{
 "cells": [
  {
   "cell_type": "code",
   "execution_count": null,
   "metadata": {},
   "outputs": [],
   "source": [
    "from dvclive import Live\n",
    "\n",
    "metrics = {\n",
    "    \"recall\": 5,\n",
    "    \"accuracy\": 5\n",
    "}\n",
    "with Live() as live:\n",
    "    live.log_param(\"epochs\", 5)\n",
    "\n",
    "    for epoch in range(5):\n",
    "\n",
    "        for metric_name, value in metrics.items():\n",
    "            live.log_metric(metric_name, value)\n",
    "        live.next_step()\n"
   ]
  },
  {
   "cell_type": "code",
   "execution_count": null,
   "metadata": {},
   "outputs": [],
   "source": []
  }
 ],
 "metadata": {
  "language_info": {
   "name": "python"
  }
 },
 "nbformat": 4,
 "nbformat_minor": 2
}
